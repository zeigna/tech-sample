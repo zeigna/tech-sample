{
 "cells": [
  {
   "cell_type": "markdown",
   "metadata": {},
   "source": [
    "**1.**\n",
    "The radius of a circle is 5.5. Write a script to compute the area of a circle."
   ]
  },
  {
   "cell_type": "markdown",
   "metadata": {},
   "source": [
    "**2.**\n",
    "Write a program where Python prints your name, then print them in reverse order with a comma between them.  Put this in the same cell.    \n",
    "\n",
    "For example:\n",
    "\n",
    "Sophia Barrett    \n",
    "Barrett, Sophia"
   ]
  },
  {
   "cell_type": "markdown",
   "metadata": {},
   "source": [
    "**3.**  Write a program to test if a number is divisible by 5."
   ]
  },
  {
   "cell_type": "markdown",
   "metadata": {},
   "source": [
    "**4.**  What is the output of the following program?  \n",
    "\n",
    "a = 1  \n",
    "b = a * 2  \n",
    "c = 2 * b + 1  \n",
    "print(a)  \n",
    "print(b)  \n",
    "print(c)  "
   ]
  },
  {
   "cell_type": "markdown",
   "metadata": {},
   "source": [
    "**5.**  What is the output of the following program?  \n",
    "\n",
    "a = 2  \n",
    "b = a * 2  \n",
    "c = b ** a  \n",
    "a = c % 2  \n",
    "print(a)  \n",
    "print(b)  \n",
    "print(c)  "
   ]
  },
  {
   "cell_type": "markdown",
   "metadata": {},
   "source": [
    "**6.**    What is the output of the following program?  \n",
    "\n",
    "a = 5  \n",
    "b = a // 2  \n",
    "c = a / 2  \n",
    "a = a % 2  \n",
    "print(a)  \n",
    "print(b)  \n",
    "print(c)  "
   ]
  },
  {
   "cell_type": "markdown",
   "metadata": {},
   "source": [
    "**7.**  Type each of the following commands.  Note each response.    \n",
    "print(\"Hello, world!\")    \n",
    "print(\"Hello\", \"world!\")  \n",
    "print(3)  \n",
    "print(3.0)  \n",
    "print(2 + 3)  \n",
    "print(2.0 + 3.0)  \n",
    "print(2 * 3)  \n",
    "print(2 ** 3)\n",
    "print(7 / 3)  \n",
    "print(7 // 3)  "
   ]
  },
  {
   "cell_type": "markdown",
   "metadata": {},
   "source": [
    "**8.**\n",
    "\n",
    "Create a program with a name and age.  Then have it print out a message addressed to name that tells them the year that they will turn 100 years old."
   ]
  },
  {
   "cell_type": "markdown",
   "metadata": {},
   "source": [
    "**9.**  Create a sequence of numbers from 3 to 19, but increment by 2.  "
   ]
  },
  {
   "cell_type": "markdown",
   "metadata": {},
   "source": [
    "**10.**  Try to solve this problem on your own first, then check your results with python.    \n",
    "  \n",
    "  \n",
    "a = 21   \n",
    "b = 10   \n",
    "c = 0    \n",
    "\n",
    "c = a + b   \n",
    "print \"Line 1 - Value of c is \", c\n",
    "\n",
    "c += a   \n",
    "print \"Line 2 - Value of c is \", c \n",
    "\n",
    "c *= a   \n",
    "print \"Line 3 - Value of c is \", c \n",
    "\n",
    "c /= a    \n",
    "print \"Line 4 - Value of c is \", c \n",
    "\n",
    "c  = 2   \n",
    "c %= a   \n",
    "print \"Line 5 - Value of c is \", c\n",
    "\n",
    "c **= a   \n",
    "print \"Line 6 - Value of c is \", c\n",
    "\n",
    "c //= a   \n",
    "print \"Line 7 - Value of c is \", c"
   ]
  },
  {
   "cell_type": "code",
   "execution_count": null,
   "metadata": {},
   "outputs": [],
   "source": []
  },
  {
   "cell_type": "code",
   "execution_count": null,
   "metadata": {},
   "outputs": [],
   "source": []
  }
 ],
 "metadata": {
  "kernelspec": {
   "display_name": "Python 3",
   "language": "python",
   "name": "python3"
  },
  "language_info": {
   "codemirror_mode": {
    "name": "ipython",
    "version": 3
   },
   "file_extension": ".py",
   "mimetype": "text/x-python",
   "name": "python",
   "nbconvert_exporter": "python",
   "pygments_lexer": "ipython3",
   "version": "3.7.0"
  }
 },
 "nbformat": 4,
 "nbformat_minor": 2
}
